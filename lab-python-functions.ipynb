{
 "cells": [
  {
   "cell_type": "markdown",
   "id": "25d7736c-ba17-4aff-b6bb-66eba20fbf4e",
   "metadata": {},
   "source": [
    "# Lab | Functions"
   ]
  },
  {
   "cell_type": "markdown",
   "id": "0c581062-8967-4d93-b06e-62833222f930",
   "metadata": {
    "tags": []
   },
   "source": [
    "## Exercise: Managing Customer Orders with Functions\n",
    "\n",
    "In the previous exercise, you improved the code for managing customer orders by using loops and flow control. Now, let's take it a step further and refactor the code by introducing functions.\n",
    "\n",
    "Follow the steps below to complete the exercise:\n",
    "\n",
    "1. Define a function named `initialize_inventory` that takes `products` as a parameter. Inside the function, implement the code for initializing the inventory dictionary using a loop and user input.\n",
    "\n",
    "2. Define a function named `get_customer_orders` that takes no parameters. Inside the function, implement the code for prompting the user to enter the product names using a loop. The function should return the `customer_orders` set.\n",
    "\n",
    "3. Define a function named `update_inventory` that takes `customer_orders` and `inventory` as parameters. Inside the function, implement the code for updating the inventory dictionary based on the customer orders.\n",
    "\n",
    "4. Define a function named `calculate_order_statistics` that takes `customer_orders` and `products` as parameters. Inside the function, implement the code for calculating the order statistics (total products ordered, and percentage of unique products ordered). The function should return these values.\n",
    "\n",
    "5. Define a function named `print_order_statistics` that takes `order_statistics` as a parameter. Inside the function, implement the code for printing the order statistics.\n",
    "\n",
    "6. Define a function named `print_updated_inventory` that takes `inventory` as a parameter. Inside the function, implement the code for printing the updated inventory.\n",
    "\n",
    "7. Call the functions in the appropriate sequence to execute the program and manage customer orders.\n",
    "\n",
    "Hints for functions:\n",
    "\n",
    "- Consider the input parameters required for each function and their return values.\n",
    "- Utilize function parameters and return values to transfer data between functions.\n",
    "- Test your functions individually to ensure they work correctly.\n",
    "\n",
    "\n",
    "\n"
   ]
  },
  {
   "cell_type": "code",
   "execution_count": 1,
   "id": "a90311db",
   "metadata": {},
   "outputs": [],
   "source": [
    "#Definimos la funcion initialize_inventory\n",
    "def initialize_inventory(products): \n",
    "    inventory = {}\n",
    "    print(\"Ingrese la cantidad de cada producto disponible en el inventario:\")\n",
    "    for product in products:\n",
    "        quantity = int(input(f\"{product}: \"))\n",
    "        inventory[product] = quantity\n",
    "    return inventory"
   ]
  },
  {
   "cell_type": "code",
   "execution_count": 2,
   "id": "4b78b5f8",
   "metadata": {},
   "outputs": [],
   "source": [
    "# Definimos la funcion get_customer_orders\n",
    "def get_customer_orders():\n",
    "    customer_orders = {}\n",
    "    print(\"Ingrese la cantidad de cada producto solicitado por el cliente:\")\n",
    "    for product in products:\n",
    "        quantity = int(input(f\"{product}: \"))\n",
    "        customer_orders[product] = quantity\n",
    "    return customer_orders"
   ]
  },
  {
   "cell_type": "code",
   "execution_count": 3,
   "id": "d952cbe1",
   "metadata": {},
   "outputs": [],
   "source": [
    "# Definimos la funcion update_inventory \n",
    "def update_inventory(customer_orders, inventory):\n",
    "    for product in customer_orders:\n",
    "        if inventory[product] > 0:\n",
    "            inventory[product] -= 1\n",
    "        else:\n",
    "            print(f\"No hay suficiente stock de {product}\")\n"
   ]
  },
  {
   "cell_type": "code",
   "execution_count": 4,
   "id": "c4b0d39a",
   "metadata": {},
   "outputs": [],
   "source": [
    "# Define una función calculate_order_statistics que tenga customer_orders y products como parametros\n",
    "def calculate_order_statistics(customer_orders, products):\n",
    "    total_products_ordered = len(customer_orders)\n",
    "    percentage_ordered = (total_products_ordered / len(products)) * 100\n",
    "    return total_products_ordered, percentage_ordered\n",
    "\n"
   ]
  },
  {
   "cell_type": "code",
   "execution_count": 5,
   "id": "fefbe269",
   "metadata": {},
   "outputs": [],
   "source": [
    "# Definimos la funcion print_order_statistics\n",
    "def print_order_statistics(total_products_ordered, percentage_ordered):\n",
    "    print(f\"Total de proyectos solicitados: {total_products_ordered}\")\n",
    "    print(f\"Porcentaje de proyectos solicitados: {percentage_ordered:.2f}%\")    "
   ]
  },
  {
   "cell_type": "code",
   "execution_count": 6,
   "id": "dfaf883f",
   "metadata": {},
   "outputs": [],
   "source": [
    "#Definimos la funcion print_updated_inventory\n",
    "def print_updated_inventory(inventory):\n",
    "    print(\"Inventario actualizado:\")\n",
    "    for product, quantity in inventory.items():\n",
    "        print(f\"{product}: {quantity}\")"
   ]
  },
  {
   "cell_type": "code",
   "execution_count": 8,
   "id": "e0d0d1fa",
   "metadata": {},
   "outputs": [
    {
     "ename": "IndentationError",
     "evalue": "unexpected indent (3036152750.py, line 10)",
     "output_type": "error",
     "traceback": [
      "\u001b[1;36m  Cell \u001b[1;32mIn[8], line 10\u001b[1;36m\u001b[0m\n\u001b[1;33m    Lista de productos\u001b[0m\n\u001b[1;37m    ^\u001b[0m\n\u001b[1;31mIndentationError\u001b[0m\u001b[1;31m:\u001b[0m unexpected indent\n"
     ]
    }
   ],
   "source": [
    "# Llamamos a las funciones en el orden correcto\n",
    "inventory = initialize_inventory(products)\n",
    "customer_orders = get_customer_orders()\n",
    "update_inventory(customer_orders, inventory)\n",
    "total_products_ordered, percentage_ordered = calculate_order_statistics(customer_orders, products)\n",
    "print_order_statistics(total_products_ordered, percentage_ordered)\n",
    "print_updated_inventory(inventory)\n",
    "\n",
    "\n",
    " Lista de productos\n",
    "productos = [\"t-shirt\", \"mug\", \"hat\", \"book\", \"keychain\"]\n",
    "\n",
    "# Inicializar inventario\n",
    "inventory = initialize_inventory(productos)\n",
    "\n",
    "# Obtener pedidos de clientes\n",
    "customer_orders = get"
   ]
  }
 ],
 "metadata": {
  "kernelspec": {
   "display_name": "Python 3 (ipykernel)",
   "language": "python",
   "name": "python3"
  },
  "language_info": {
   "codemirror_mode": {
    "name": "ipython",
    "version": 3
   },
   "file_extension": ".py",
   "mimetype": "text/x-python",
   "name": "python",
   "nbconvert_exporter": "python",
   "pygments_lexer": "ipython3",
   "version": "3.11.7"
  }
 },
 "nbformat": 4,
 "nbformat_minor": 5
}
